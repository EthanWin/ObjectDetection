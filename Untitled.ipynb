{
 "cells": [
  {
   "cell_type": "code",
   "execution_count": 2,
   "metadata": {},
   "outputs": [
    {
     "ename": "ModuleNotFoundError",
     "evalue": "No module named 'utils.cython_modules.cython_bbox'",
     "output_type": "error",
     "traceback": [
      "\u001b[1;31m---------------------------------------------------------------------------\u001b[0m",
      "\u001b[1;31mModuleNotFoundError\u001b[0m                       Traceback (most recent call last)",
      "\u001b[1;32m<ipython-input-2-3937a0988ca2>\u001b[0m in \u001b[0;36m<module>\u001b[1;34m()\u001b[0m\n\u001b[0;32m      7\u001b[0m \u001b[1;32mimport\u001b[0m \u001b[0mnumpy\u001b[0m \u001b[1;32mas\u001b[0m \u001b[0mnp\u001b[0m\u001b[1;33m\u001b[0m\u001b[0m\n\u001b[0;32m      8\u001b[0m \u001b[1;32mimport\u001b[0m \u001b[0mcntk\u001b[0m\u001b[1;33m\u001b[0m\u001b[0m\n\u001b[1;32m----> 9\u001b[1;33m \u001b[1;32mfrom\u001b[0m \u001b[0mFasterRCNN\u001b[0m\u001b[1;33m.\u001b[0m\u001b[0mFasterRCNN_train\u001b[0m \u001b[1;32mimport\u001b[0m \u001b[0mprepare\u001b[0m\u001b[1;33m,\u001b[0m \u001b[0mtrain_faster_rcnn\u001b[0m\u001b[1;33m,\u001b[0m \u001b[0mstore_eval_model_with_native_udf\u001b[0m\u001b[1;33m\u001b[0m\u001b[0m\n\u001b[0m\u001b[0;32m     10\u001b[0m \u001b[1;32mfrom\u001b[0m \u001b[0mFasterRCNN\u001b[0m\u001b[1;33m.\u001b[0m\u001b[0mFasterRCNN_eval\u001b[0m \u001b[1;32mimport\u001b[0m \u001b[0mcompute_test_set_aps\u001b[0m\u001b[1;33m,\u001b[0m \u001b[0mFasterRCNN_Evaluator\u001b[0m\u001b[1;33m\u001b[0m\u001b[0m\n\u001b[0;32m     11\u001b[0m \u001b[1;32mimport\u001b[0m \u001b[0mutils\u001b[0m\u001b[1;33m.\u001b[0m\u001b[0mod_utils\u001b[0m \u001b[1;32mas\u001b[0m \u001b[0mod\u001b[0m\u001b[1;33m\u001b[0m\u001b[0m\n",
      "\u001b[1;32m~\\Documents\\GitHub\\ObjectDetection\\FasterRCNN\\FasterRCNN_train.py\u001b[0m in \u001b[0;36m<module>\u001b[1;34m()\u001b[0m\n\u001b[0;32m     26\u001b[0m \u001b[0mabs_path\u001b[0m \u001b[1;33m=\u001b[0m \u001b[0mos\u001b[0m\u001b[1;33m.\u001b[0m\u001b[0mpath\u001b[0m\u001b[1;33m.\u001b[0m\u001b[0mdirname\u001b[0m\u001b[1;33m(\u001b[0m\u001b[0mos\u001b[0m\u001b[1;33m.\u001b[0m\u001b[0mpath\u001b[0m\u001b[1;33m.\u001b[0m\u001b[0mabspath\u001b[0m\u001b[1;33m(\u001b[0m\u001b[0m__file__\u001b[0m\u001b[1;33m)\u001b[0m\u001b[1;33m)\u001b[0m\u001b[1;33m\u001b[0m\u001b[0m\n\u001b[0;32m     27\u001b[0m \u001b[0msys\u001b[0m\u001b[1;33m.\u001b[0m\u001b[0mpath\u001b[0m\u001b[1;33m.\u001b[0m\u001b[0mappend\u001b[0m\u001b[1;33m(\u001b[0m\u001b[0mos\u001b[0m\u001b[1;33m.\u001b[0m\u001b[0mpath\u001b[0m\u001b[1;33m.\u001b[0m\u001b[0mjoin\u001b[0m\u001b[1;33m(\u001b[0m\u001b[0mabs_path\u001b[0m\u001b[1;33m,\u001b[0m \u001b[1;34m\"..\"\u001b[0m\u001b[1;33m)\u001b[0m\u001b[1;33m)\u001b[0m\u001b[1;33m\u001b[0m\u001b[0m\n\u001b[1;32m---> 28\u001b[1;33m \u001b[1;32mfrom\u001b[0m \u001b[0mutils\u001b[0m\u001b[1;33m.\u001b[0m\u001b[0mrpn\u001b[0m\u001b[1;33m.\u001b[0m\u001b[0mrpn_helpers\u001b[0m \u001b[1;32mimport\u001b[0m \u001b[0mcreate_rpn\u001b[0m\u001b[1;33m,\u001b[0m \u001b[0mcreate_proposal_target_layer\u001b[0m\u001b[1;33m,\u001b[0m \u001b[0mcreate_proposal_layer\u001b[0m\u001b[1;33m\u001b[0m\u001b[0m\n\u001b[0m\u001b[0;32m     29\u001b[0m \u001b[1;32mfrom\u001b[0m \u001b[0mutils\u001b[0m\u001b[1;33m.\u001b[0m\u001b[0mannotations\u001b[0m\u001b[1;33m.\u001b[0m\u001b[0mannotations_helper\u001b[0m \u001b[1;32mimport\u001b[0m \u001b[0mparse_class_map_file\u001b[0m\u001b[1;33m\u001b[0m\u001b[0m\n\u001b[0;32m     30\u001b[0m \u001b[1;32mfrom\u001b[0m \u001b[0mutils\u001b[0m\u001b[1;33m.\u001b[0m\u001b[0mod_mb_source\u001b[0m \u001b[1;32mimport\u001b[0m \u001b[0mObjectDetectionMinibatchSource\u001b[0m\u001b[1;33m\u001b[0m\u001b[0m\n",
      "\u001b[1;32m~\\Documents\\GitHub\\ObjectDetection\\utils\\rpn\\rpn_helpers.py\u001b[0m in \u001b[0;36m<module>\u001b[1;34m()\u001b[0m\n\u001b[0;32m     12\u001b[0m \u001b[1;32mfrom\u001b[0m \u001b[0mcntk\u001b[0m\u001b[1;33m.\u001b[0m\u001b[0mlayers\u001b[0m \u001b[1;32mimport\u001b[0m \u001b[0mConvolution\u001b[0m\u001b[1;33m\u001b[0m\u001b[0m\n\u001b[0;32m     13\u001b[0m \u001b[1;32mfrom\u001b[0m \u001b[0mcntk\u001b[0m\u001b[1;33m.\u001b[0m\u001b[0mlosses\u001b[0m \u001b[1;32mimport\u001b[0m \u001b[0mcross_entropy_with_softmax\u001b[0m\u001b[1;33m\u001b[0m\u001b[0m\n\u001b[1;32m---> 14\u001b[1;33m \u001b[1;32mfrom\u001b[0m \u001b[0mutils\u001b[0m\u001b[1;33m.\u001b[0m\u001b[0mrpn\u001b[0m\u001b[1;33m.\u001b[0m\u001b[0manchor_target_layer\u001b[0m \u001b[1;32mimport\u001b[0m \u001b[0mAnchorTargetLayer\u001b[0m\u001b[1;33m\u001b[0m\u001b[0m\n\u001b[0m\u001b[0;32m     15\u001b[0m \u001b[1;32mfrom\u001b[0m \u001b[0mutils\u001b[0m\u001b[1;33m.\u001b[0m\u001b[0mrpn\u001b[0m\u001b[1;33m.\u001b[0m\u001b[0mproposal_layer\u001b[0m \u001b[1;32mimport\u001b[0m \u001b[0mProposalLayer\u001b[0m\u001b[1;33m\u001b[0m\u001b[0m\n\u001b[0;32m     16\u001b[0m \u001b[1;32mfrom\u001b[0m \u001b[0mutils\u001b[0m\u001b[1;33m.\u001b[0m\u001b[0mrpn\u001b[0m\u001b[1;33m.\u001b[0m\u001b[0mproposal_target_layer\u001b[0m \u001b[1;32mimport\u001b[0m \u001b[0mProposalTargetLayer\u001b[0m\u001b[1;33m\u001b[0m\u001b[0m\n",
      "\u001b[1;32m~\\Documents\\GitHub\\ObjectDetection\\utils\\rpn\\anchor_target_layer.py\u001b[0m in \u001b[0;36m<module>\u001b[1;34m()\u001b[0m\n\u001b[0;32m     13\u001b[0m \u001b[1;32mfrom\u001b[0m \u001b[0mutils\u001b[0m\u001b[1;33m.\u001b[0m\u001b[0mrpn\u001b[0m\u001b[1;33m.\u001b[0m\u001b[0mgenerate_anchors\u001b[0m \u001b[1;32mimport\u001b[0m \u001b[0mgenerate_anchors\u001b[0m\u001b[1;33m\u001b[0m\u001b[0m\n\u001b[0;32m     14\u001b[0m \u001b[1;32mfrom\u001b[0m \u001b[0mutils\u001b[0m\u001b[1;33m.\u001b[0m\u001b[0mrpn\u001b[0m\u001b[1;33m.\u001b[0m\u001b[0mbbox_transform\u001b[0m \u001b[1;32mimport\u001b[0m \u001b[0mbbox_transform\u001b[0m\u001b[1;33m\u001b[0m\u001b[0m\n\u001b[1;32m---> 15\u001b[1;33m \u001b[1;32mfrom\u001b[0m \u001b[0mutils\u001b[0m\u001b[1;33m.\u001b[0m\u001b[0mcython_modules\u001b[0m\u001b[1;33m.\u001b[0m\u001b[0mcython_bbox\u001b[0m \u001b[1;32mimport\u001b[0m \u001b[0mbbox_overlaps\u001b[0m\u001b[1;33m\u001b[0m\u001b[0m\n\u001b[0m\u001b[0;32m     16\u001b[0m \u001b[1;33m\u001b[0m\u001b[0m\n\u001b[0;32m     17\u001b[0m \u001b[0mDEBUG\u001b[0m \u001b[1;33m=\u001b[0m \u001b[1;32mFalse\u001b[0m\u001b[1;33m\u001b[0m\u001b[0m\n",
      "\u001b[1;31mModuleNotFoundError\u001b[0m: No module named 'utils.cython_modules.cython_bbox'"
     ]
    }
   ],
   "source": [
    "# Copyright (c) Microsoft. All rights reserved.\n",
    "\n",
    "# Licensed under the MIT license. See LICENSE.md file in the project root\n",
    "# for full license information.\n",
    "# ==============================================================================\n",
    "import os\n",
    "import numpy as np\n",
    "import cntk\n",
    "from FasterRCNN.FasterRCNN_train import prepare, train_faster_rcnn, store_eval_model_with_native_udf\n",
    "from FasterRCNN.FasterRCNN_eval import compute_test_set_aps, FasterRCNN_Evaluator\n",
    "import utils.od_utils as od\n",
    "from utils.config_helpers import merge_configs\n",
    "from utils.plot_helpers import plot_test_set_results\n",
    "\n",
    "def get_configuration():\n",
    "    # load configs for detector, base network and data set\n",
    "    from FasterRCNN.FasterRCNN_config import cfg as detector_cfg\n",
    "\n",
    "    # for VGG16 base model use:         from utils.configs.VGG16_config import cfg as network_cfg\n",
    "    # for AlexNet base model use:       from utils.configs.AlexNet_config import cfg as network_cfg\n",
    "    from utils.configs.AlexNet_config import cfg as network_cfg\n",
    "    # for Pascal VOC 2007 data set use: from utils.configs.Pascal_config import cfg as dataset_cfg\n",
    "    # for the Grocery data set use:     from utils.configs.Grocery_config import cfg as dataset_cfg\n",
    "    # from utils.configs.Grocery_config import cfg as dataset_cfg\n",
    "    ###################################################################\n",
    "    # Custom Dataset NO3310\n",
    "    from utils.configs.NO3310_config import cfg as dataset_cfg\n",
    "\n",
    "    return merge_configs([detector_cfg, network_cfg, dataset_cfg, {'DETECTOR': 'FasterRCNN'}])\n",
    "\n",
    "if __name__ == '__main__':\n",
    "    # Get Configuration\n",
    "    cfg = get_configuration()\n",
    "\n",
    "    # train \n",
    "    trained_model = od.train_object_detector(cfg)\n",
    "    # test model with some images\n",
    "    eval_results = od.evaluate_test_set(trained_model, cfg)\n",
    "\n",
    "    # Plot results on test set images\n",
    "    if cfg.VISUALIZE_RESULTS:\n",
    "        num_eval = min(cfg[\"DATA\"].NUM_TEST_IMAGES, 100)\n",
    "        results_folder = os.path.join(cfg.OUTPUT_PATH, cfg[\"DATA\"].DATASET)\n",
    "        evaluator = FasterRCNN_Evaluator(trained_model, cfg)\n",
    "        plot_test_set_results(evaluator, num_eval, results_folder, cfg)\n",
    "\n",
    "    if cfg.STORE_EVAL_MODEL_WITH_NATIVE_UDF:\n",
    "        store_eval_model_with_native_udf(trained_model, cfg)\n",
    "\n",
    "    # detect objects in single image\n",
    "    img_path = os.path.join(os.path.dirname(os.path.abspath(__file__)), r\"DataSets/NO3310/testImages/img30.jpg\")\n",
    "    regressed_rois, cls_probs = od.evaluate_single_image(trained_model, img_path, cfg)\n",
    "    bboxes, labels, scores = od.filter_results(regressed_rois, cls_probs, cfg)\n",
    "\n",
    "    # write detection results to output\n",
    "    fg_boxes = np.where(labels > 0)\n",
    "    print(\"#bboxes: before nms: {}, after nms: {}, foreground: {}\".format(len(regressed_rois), len(bboxes), len(fg_boxes[0])))\n",
    "    for i in fg_boxes[0]: print(\"{:<12} (label: {:<2}), score: {:.3f}, box: {}\".format(\n",
    "                                cfg[\"DATA\"].CLASSES[labels[i]], labels[i], scores[i], [int(v) for v in bboxes[i]]))\n",
    "    # visualize detections on image\n",
    "    od.visualize_results(img_path, bboxes, labels, scores, cfg)\n",
    "    # measure inference time\n",
    "   # od.measure_inference_time(trained_model, img_path, cfg, num_repetitions=100)"
   ]
  },
  {
   "cell_type": "code",
   "execution_count": 2,
   "metadata": {},
   "outputs": [
    {
     "ename": "SyntaxError",
     "evalue": "invalid syntax (<ipython-input-2-9a64ef584b76>, line 1)",
     "output_type": "error",
     "traceback": [
      "\u001b[1;36m  File \u001b[1;32m\"<ipython-input-2-9a64ef584b76>\"\u001b[1;36m, line \u001b[1;32m1\u001b[0m\n\u001b[1;33m    install -U matplotlib\u001b[0m\n\u001b[1;37m                        ^\u001b[0m\n\u001b[1;31mSyntaxError\u001b[0m\u001b[1;31m:\u001b[0m invalid syntax\n"
     ]
    }
   ],
   "source": []
  }
 ],
 "metadata": {
  "kernelspec": {
   "display_name": "Python 3",
   "language": "python",
   "name": "python3"
  }
 },
 "nbformat": 4,
 "nbformat_minor": 2
}
